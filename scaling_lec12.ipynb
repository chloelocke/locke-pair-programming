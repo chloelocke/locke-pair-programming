{
 "cells": [
  {
   "cell_type": "code",
   "execution_count": 6,
   "id": "28a4a546-361a-4f1c-abde-08db8612bb76",
   "metadata": {},
   "outputs": [],
   "source": [
    "import numpy as np"
   ]
  },
  {
   "cell_type": "code",
   "execution_count": 25,
   "id": "38a3939a-9c1e-42e5-bb76-c44510ede0e8",
   "metadata": {},
   "outputs": [],
   "source": [
    "def zero_one_scl(data):\n",
    "    return data / np.nanmax(data)"
   ]
  },
  {
   "cell_type": "code",
   "execution_count": 26,
   "id": "aadb5099-0c31-4310-bb59-381eec1c6979",
   "metadata": {},
   "outputs": [
    {
     "data": {
      "text/plain": [
       "array([0.81632653, 0.83673469, 0.85714286, 0.87755102, 0.89795918,\n",
       "       0.91836735, 0.93877551, 0.95918367, 0.97959184, 1.        ])"
      ]
     },
     "execution_count": 26,
     "metadata": {},
     "output_type": "execute_result"
    }
   ],
   "source": [
    "zero_one_scl(np.arange(40,50))"
   ]
  }
 ],
 "metadata": {
  "kernelspec": {
   "display_name": "Python 3 (ipykernel)",
   "language": "python",
   "name": "python3"
  },
  "language_info": {
   "codemirror_mode": {
    "name": "ipython",
    "version": 3
   },
   "file_extension": ".py",
   "mimetype": "text/x-python",
   "name": "python",
   "nbconvert_exporter": "python",
   "pygments_lexer": "ipython3",
   "version": "3.9.13"
  }
 },
 "nbformat": 4,
 "nbformat_minor": 5
}
