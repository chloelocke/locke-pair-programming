{
 "cells": [
  {
   "cell_type": "code",
   "execution_count": null,
   "metadata": {},
   "outputs": [],
   "source": [
    "import numpy as np"
   ]
  },
  {
   "cell_type": "code",
   "execution_count": null,
   "metadata": {},
   "outputs": [],
   "source": [
    "def zero_one_scl(data):\n",
    "    return data / np.nanmax(data)"
   ]
  },
  {
   "cell_type": "code",
   "execution_count": null,
   "metadata": {},
   "outputs": [],
   "source": [
    "zero_one_scl(np.arange(40,50))"
   ]
  },
  {
   "cell_type": "code",
   "execution_count": null,
   "metadata": {},
   "outputs": [],
   "source": [
    "#Henry Notes:\n",
    "myArray = [0,1,2,3,4,5,6,7,8,9,10] #Simple, evenly spaced array, funch should give same result as linspace\n",
    "myArray2 = [-1,1,3] #Try a negative value\n",
    "myArray3 = [np.nan,0,1] #Try a nan value\n",
    "\n",
    "\n",
    "def test_func(func):\n",
    "    if np.allclose(func(myArray),np.linspace(0,1,11), .1): #Checks if each part of the array is equal within a tolerance\n",
    "        print(\"passed simple test\")                        # (linspace stores numbers weird so we need a tiny bit of leeway)\n",
    "    else:\n",
    "        print(\"failed simple test:\" ,myArray, \"----->\", func(myArray))\n",
    "    \n",
    "    if np.allclose(func(myArray2), np.linspace(0,1,3),.1):\n",
    "        print(\"passed negative test\")\n",
    "    else:\n",
    "        print(\"failed negative test:\" ,myArray2, \"----->\", func(myArray2))\n",
    "        \n",
    "    if np.allclose(func(myArray3),[np.nan,0.,1.],.1,equal_nan=True): #equal_nan argument says that the NaNs are the same value\n",
    "        print(\"passed nan test\")\n",
    "    else:\n",
    "        print(\"failed nan test:\" ,myArray3, \"----->\", func(myArray3))\n",
    "\n",
    "test_func(zero_one_scl)\n",
    "\n",
    "#The code successfully maps each point between 0 and 1. However, would it be better if\n",
    "#the code mapped the minimum in the array to zero always? "
   ]
  },
  {
   "cell_type": "code",
   "execution_count": null,
   "metadata": {},
   "outputs": [],
   "source": [
    "#Function doesn't seem to be able to handle negative numbers (which is ok if that's specified)\n",
    "#To account for negative data, maybe shift all the data by the minimum value, then scale by the\n",
    "#largest value in that array, so the minimum maps to zero and the maximum still to 1:\n",
    "\n",
    "def zero_one_scl_new(data):\n",
    "    data = data - np.nanmin(data)\n",
    "    return data / np.nanmax(data)\n",
    "\n",
    "#The code now works with negatives, and also the minimum is always mapped to zero. -Henry"
   ]
  },
  {
   "cell_type": "code",
   "execution_count": null,
   "metadata": {},
   "outputs": [],
   "source": [
    "test_func(zero_one_scl_new) #This function passes the test"
   ]
  },
  {
   "cell_type": "code",
   "execution_count": null,
   "metadata": {},
   "outputs": [],
   "source": []
  }
 ],
 "metadata": {
  "kernelspec": {
   "display_name": "Python 3",
   "language": "python",
   "name": "python3"
  },
  "language_info": {
   "codemirror_mode": {
    "name": "ipython",
    "version": 3
   },
   "file_extension": ".py",
   "mimetype": "text/x-python",
   "name": "python",
   "nbconvert_exporter": "python",
   "pygments_lexer": "ipython3",
   "version": "3.8.5"
  }
 },
 "nbformat": 4,
 "nbformat_minor": 5
}
